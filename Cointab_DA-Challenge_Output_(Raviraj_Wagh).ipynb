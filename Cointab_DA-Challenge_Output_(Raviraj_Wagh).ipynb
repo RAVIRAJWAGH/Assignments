{
 "cells": [
  {
   "cell_type": "markdown",
   "id": "3129e943",
   "metadata": {},
   "source": [
    "## Raviraj_Wagh\n",
    "___Cointab_DA-Challenge_Output___"
   ]
  },
  {
   "cell_type": "markdown",
   "id": "a4f3e055",
   "metadata": {},
   "source": [
    "###### Import files"
   ]
  },
  {
   "cell_type": "code",
   "execution_count": 1,
   "id": "7613c7b9",
   "metadata": {},
   "outputs": [],
   "source": [
    "import pandas as pd\n",
    "file_1=pd.read_excel(r\"C:\\Users\\Parimal\\Downloads\\Cointab Data Analyst - Challenge\\Company X - Order Report.xlsx\")\n",
    "file_2=pd.read_excel(r\"C:\\Users\\Parimal\\Downloads\\Cointab Data Analyst - Challenge\\Company X - Pincode Zones.xlsx\")\n",
    "file_3=pd.read_excel(r\"C:\\Users\\Parimal\\Downloads\\Cointab Data Analyst - Challenge\\Company X - SKU Master.xlsx\")\n",
    "file_4=pd.read_excel(r\"C:\\Users\\Parimal\\Downloads\\Cointab Data Analyst - Challenge\\Courier Company - Invoice.xlsx\")\n",
    "file_5=pd.read_excel(r\"C:\\Users\\Parimal\\Downloads\\Cointab Data Analyst - Challenge\\Courier Company - Rates.xlsx\")\n",
    "file_out_1=pd.read_excel(r\"C:\\Users\\Parimal\\Downloads\\Cointab Data Analyst - Challenge\\Expected_Result.xlsx\",sheet_name='Summary')\n",
    "file_out_2=pd.read_excel(r\"C:\\Users\\Parimal\\Downloads\\Cointab Data Analyst - Challenge\\Expected_Result.xlsx\",sheet_name='Calculations')"
   ]
  },
  {
   "cell_type": "code",
   "execution_count": 2,
   "id": "98d8c0ab",
   "metadata": {},
   "outputs": [
    {
     "data": {
      "text/plain": [
       "124"
      ]
     },
     "execution_count": 2,
     "metadata": {},
     "output_type": "execute_result"
    }
   ],
   "source": [
    "file_1['ExternOrderNo'].nunique()"
   ]
  },
  {
   "cell_type": "markdown",
   "id": "d5213dba",
   "metadata": {},
   "source": [
    "##### Handling Duplicates"
   ]
  },
  {
   "cell_type": "code",
   "execution_count": 3,
   "id": "f89bab4f",
   "metadata": {},
   "outputs": [],
   "source": [
    "file_1.drop_duplicates(inplace=True)\n",
    "file_2.drop_duplicates(inplace=True)\n",
    "file_3.drop_duplicates(inplace=True)"
   ]
  },
  {
   "cell_type": "markdown",
   "id": "fb7f606d",
   "metadata": {},
   "source": [
    "###### Merging Order quantity and Weight as pe SKU"
   ]
  },
  {
   "cell_type": "code",
   "execution_count": 4,
   "id": "9724c388",
   "metadata": {
    "scrolled": true
   },
   "outputs": [],
   "source": [
    "new_1=file_1.merge(file_3,how='left',on='SKU')"
   ]
  },
  {
   "cell_type": "code",
   "execution_count": 5,
   "id": "f91e65c9",
   "metadata": {},
   "outputs": [],
   "source": [
    "# conversion of weight grms to kg\n",
    "new_1['Weight (kg)']=new_1['Weight (g)']/1000\n",
    "new_1.drop('Weight (g)',inplace=True,axis=1)"
   ]
  },
  {
   "cell_type": "code",
   "execution_count": 6,
   "id": "ce1c2af2",
   "metadata": {
    "scrolled": true
   },
   "outputs": [],
   "source": [
    "new_1['tot']=new_1['Order Qty']*new_1['Weight (kg)']"
   ]
  },
  {
   "cell_type": "markdown",
   "id": "8a0f39c0",
   "metadata": {},
   "source": [
    "###### Unique order ID's by Grouping them"
   ]
  },
  {
   "cell_type": "code",
   "execution_count": 7,
   "id": "6f40f863",
   "metadata": {},
   "outputs": [],
   "source": [
    "new_2=new_1.groupby('ExternOrderNo').sum().reset_index()\n",
    "new_2=new_2.drop('Order Qty',axis=1)\n",
    "new_2=new_2.drop('Weight (kg)',axis=1)"
   ]
  },
  {
   "cell_type": "code",
   "execution_count": 8,
   "id": "75fdc672",
   "metadata": {},
   "outputs": [],
   "source": [
    "new_2.rename(columns={'ExternOrderNo':'Order ID'},inplace=True)"
   ]
  },
  {
   "cell_type": "markdown",
   "id": "c1a02f32",
   "metadata": {},
   "source": [
    "###### Merging AWB code"
   ]
  },
  {
   "cell_type": "code",
   "execution_count": 9,
   "id": "2da81bf5",
   "metadata": {},
   "outputs": [],
   "source": [
    "new_3=new_2.merge(file_4[['AWB Code','Order ID']],how='left',on='Order ID')"
   ]
  },
  {
   "cell_type": "markdown",
   "id": "b9db905b",
   "metadata": {},
   "source": [
    "###### Building Slab for x"
   ]
  },
  {
   "cell_type": "code",
   "execution_count": 10,
   "id": "58dccd67",
   "metadata": {},
   "outputs": [],
   "source": [
    "a=new_3['tot']//1\n",
    "b=new_3['tot']%1\n",
    "\n",
    "b[(b>0)&(b<0.5)]=0.5\n",
    "b[b>0.5]=1\n",
    "\n",
    "new_3['slab_wt']=a+b"
   ]
  },
  {
   "cell_type": "code",
   "execution_count": 11,
   "id": "51da07e3",
   "metadata": {},
   "outputs": [],
   "source": [
    "new_31=new_3.merge(file_4[['Order ID','Charged Weight','Customer Pincode','Zone','Type of Shipment','Billing Amount (Rs.)']],on='Order ID')\n",
    "new_31.rename(columns={'Zone':'Zone as per courier'},inplace=True)"
   ]
  },
  {
   "cell_type": "code",
   "execution_count": 12,
   "id": "c0162922",
   "metadata": {},
   "outputs": [],
   "source": [
    "new_4=new_31.merge(file_2[['Customer Pincode','Zone']],on='Customer Pincode')\n",
    "new_4.rename(columns={'Zone':'Zone as per X'},inplace=True)"
   ]
  },
  {
   "cell_type": "markdown",
   "id": "65c1b9dd",
   "metadata": {},
   "source": [
    "###### Buiding Slab for Courier Company"
   ]
  },
  {
   "cell_type": "code",
   "execution_count": 13,
   "id": "1863f036",
   "metadata": {},
   "outputs": [],
   "source": [
    "a=new_4['Charged Weight']//1\n",
    "b=new_4['Charged Weight']%1\n",
    "\n",
    "b[(b>0)&(b<0.5)]=0.5\n",
    "b[b>0.5]=1\n",
    "\n",
    "new_4['slab_wt_As_per_Courier_company']=a+b"
   ]
  },
  {
   "cell_type": "code",
   "execution_count": 14,
   "id": "0d11b14f",
   "metadata": {},
   "outputs": [
    {
     "data": {
      "text/plain": [
       "array(['b', 'd', 'e'], dtype=object)"
      ]
     },
     "execution_count": 14,
     "metadata": {},
     "output_type": "execute_result"
    }
   ],
   "source": [
    "new_4[new_4['Type of Shipment']=='Forward charges']['Zone as per X'].unique()"
   ]
  },
  {
   "cell_type": "code",
   "execution_count": 15,
   "id": "6a13bbdd",
   "metadata": {},
   "outputs": [
    {
     "data": {
      "text/plain": [
       "array(['d', 'e', 'b'], dtype=object)"
      ]
     },
     "execution_count": 15,
     "metadata": {},
     "output_type": "execute_result"
    }
   ],
   "source": [
    "new_4[new_4['Type of Shipment']=='Forward and RTO charges']['Zone as per X'].unique()"
   ]
  },
  {
   "cell_type": "markdown",
   "id": "f5cdac02",
   "metadata": {},
   "source": [
    "###### Expected_charges_as_per_X"
   ]
  },
  {
   "cell_type": "code",
   "execution_count": 16,
   "id": "5e71e445",
   "metadata": {},
   "outputs": [],
   "source": [
    "new_4.loc[(new_4['Type of Shipment']=='Forward charges') & (new_4['Zone as per X']=='b') & (new_4['slab_wt']<=0.5),'Expected_charges_as_per_X']=file_5.loc[0,'fwd_b_fixed']\n",
    "new_4.loc[(new_4['Type of Shipment']=='Forward charges') & (new_4['Zone as per X']=='b') & (new_4['slab_wt']>0.5),'Expected_charges_as_per_X']=file_5.loc[0,'fwd_b_fixed']+(new_4.loc[(new_4['Type of Shipment']=='Forward charges') & (new_4['Zone as per X']=='b') & (new_4['slab_wt']>0.5)]['slab_wt']/0.5-1)*file_5.loc[0,'fwd_b_additional']\n",
    "new_4.loc[(new_4['Type of Shipment']=='Forward charges') & (new_4['Zone as per X']=='d') & (new_4['slab_wt']<=0.5),'Expected_charges_as_per_X']=file_5.loc[0,'fwd_d_fixed']\n",
    "new_4.loc[(new_4['Type of Shipment']=='Forward charges') & (new_4['Zone as per X']=='d') & (new_4['slab_wt']>0.5),'Expected_charges_as_per_X']=file_5.loc[0,'fwd_d_fixed']+(new_4.loc[(new_4['Type of Shipment']=='Forward charges') & (new_4['Zone as per X']=='d') & (new_4['slab_wt']>0.5)]['slab_wt']/0.5-1)*file_5.loc[0,'fwd_d_additional']\n",
    "new_4.loc[(new_4['Type of Shipment']=='Forward charges') & (new_4['Zone as per X']=='e') & (new_4['slab_wt']<=0.5),'Expected_charges_as_per_X']=file_5.loc[0,'fwd_e_fixed']\n",
    "new_4.loc[(new_4['Type of Shipment']=='Forward charges') & (new_4['Zone as per X']=='e') & (new_4['slab_wt']>0.5),'Expected_charges_as_per_X']=file_5.loc[0,'fwd_e_fixed']+(new_4.loc[(new_4['Type of Shipment']=='Forward charges') & (new_4['Zone as per X']=='e') & (new_4['slab_wt']>0.5)]['slab_wt']/0.5-1)*file_5.loc[0,'fwd_e_additional']\n",
    "\n",
    "\n",
    "new_4.loc[(new_4['Type of Shipment']=='Forward and RTO charges') & (new_4['Zone as per X']=='b') & (new_4['slab_wt']<=0.5),'Expected_charges_as_per_X']=file_5.loc[0,'fwd_b_fixed']+file_5.loc[0,'rto_b_fixed']\n",
    "new_4.loc[(new_4['Type of Shipment']=='Forward and RTO charges') & (new_4['Zone as per X']=='b') & (new_4['slab_wt']>0.5),'Expected_charges_as_per_X']=(file_5.loc[0,'fwd_b_fixed']+file_5.loc[0,'rto_b_fixed'])+(new_4.loc[(new_4['Type of Shipment']=='Forward and RTO charges') & (new_4['Zone as per X']=='b') & (new_4['slab_wt']>0.5)]['slab_wt']/0.5-1)*(file_5.loc[0,'fwd_b_additional']+file_5.loc[0,'rto_b_additional'])\n",
    "new_4.loc[(new_4['Type of Shipment']=='Forward and RTO charges') & (new_4['Zone as per X']=='d') & (new_4['slab_wt']<=0.5),'Expected_charges_as_per_X']=file_5.loc[0,'fwd_d_fixed']+file_5.loc[0,'rto_d_fixed']\n",
    "new_4.loc[(new_4['Type of Shipment']=='Forward and RTO charges') & (new_4['Zone as per X']=='d') & (new_4['slab_wt']>0.5),'Expected_charges_as_per_X']=(file_5.loc[0,'fwd_d_fixed']+file_5.loc[0,'rto_d_fixed'])+(new_4.loc[(new_4['Type of Shipment']=='Forward and RTO charges') & (new_4['Zone as per X']=='d') & (new_4['slab_wt']>0.5)]['slab_wt']/0.5-1)*(file_5.loc[0,'fwd_d_additional']+file_5.loc[0,'rto_d_additional'])\n",
    "new_4.loc[(new_4['Type of Shipment']=='Forward and RTO charges') & (new_4['Zone as per X']=='e') & (new_4['slab_wt']<=0.5),'Expected_charges_as_per_X']=file_5.loc[0,'fwd_e_fixed']+file_5.loc[0,'rto_e_fixed']\n",
    "new_4.loc[(new_4['Type of Shipment']=='Forward and RTO charges') & (new_4['Zone as per X']=='e') & (new_4['slab_wt']>0.5),'Expected_charges_as_per_X']=(file_5.loc[0,'fwd_e_fixed']+file_5.loc[0,'rto_e_fixed'])+(new_4.loc[(new_4['Type of Shipment']=='Forward and RTO charges') & (new_4['Zone as per X']=='e') & (new_4['slab_wt']>0.5)]['slab_wt']/0.5-1)*(file_5.loc[0,'fwd_e_additional']+file_5.loc[0,'rto_e_additional'])\n",
    "\n"
   ]
  },
  {
   "cell_type": "code",
   "execution_count": 17,
   "id": "d550351c",
   "metadata": {},
   "outputs": [
    {
     "data": {
      "text/plain": [
       "['Order ID',\n",
       " 'AWB Code',\n",
       " 'tot',\n",
       " 'slab_wt',\n",
       " 'Charged Weight',\n",
       " 'slab_wt_As_per_Courier_company',\n",
       " 'Zone as per X',\n",
       " 'Zone as per courier',\n",
       " 'Expected_charges_as_per_X',\n",
       " 'Billing Amount (Rs.)']"
      ]
     },
     "execution_count": 17,
     "metadata": {},
     "output_type": "execute_result"
    }
   ],
   "source": [
    "seq=['Order ID', 'AWB Code','tot', 'slab_wt', 'Charged Weight','slab_wt_As_per_Courier_company',\n",
    "         'Zone as per X','Zone as per courier','Expected_charges_as_per_X', 'Billing Amount (Rs.)']\n",
    "seq"
   ]
  },
  {
   "cell_type": "code",
   "execution_count": 18,
   "id": "b30393fd",
   "metadata": {},
   "outputs": [],
   "source": [
    "new_4 = new_4[seq]"
   ]
  },
  {
   "cell_type": "code",
   "execution_count": 19,
   "id": "7dd4e818",
   "metadata": {},
   "outputs": [],
   "source": [
    "new_4=new_4.rename(columns={'Billing Amount (Rs.)':'Billing_Amount_(Rs.)'})"
   ]
  },
  {
   "cell_type": "code",
   "execution_count": 20,
   "id": "d8e3c55e",
   "metadata": {
    "scrolled": true
   },
   "outputs": [],
   "source": [
    "new_4['Diffs']=new_4['Expected_charges_as_per_X']-new_4['Billing_Amount_(Rs.)']"
   ]
  },
  {
   "cell_type": "code",
   "execution_count": 21,
   "id": "b6db6a0d",
   "metadata": {},
   "outputs": [],
   "source": [
    "labels=['Order_ID', 'AWB_Number', 'Total_weight_as_per_X_(KG)',\n",
    "       'Weight_slab_as_per_X_(KG)', 'Total_weight_as_per_Courier_Company_(KG)',\n",
    "       'Weight_sla_b_charged_by_Courier_Company_(KG)', 'Delivery_Zone_as_per_X',\n",
    "       'Delivery_Zone_charged_by_Courier_Company',\n",
    "       'Expected_Charge_as_per_X_(Rs.)',\n",
    "       'Charges_Billed_by_Courier_Company_(Rs.) ',\n",
    "       'Difference_Between_Expected_Charges_and_Billed_Charges_(Rs.)']"
   ]
  },
  {
   "cell_type": "code",
   "execution_count": 22,
   "id": "0a8185ae",
   "metadata": {},
   "outputs": [],
   "source": [
    "for i,j in zip(new_4.columns,labels):\n",
    "    new_4=new_4.rename(columns={i:j},inplace=False)"
   ]
  },
  {
   "cell_type": "code",
   "execution_count": 23,
   "id": "58adcfe9",
   "metadata": {},
   "outputs": [
    {
     "data": {
      "text/html": [
       "<div>\n",
       "<style scoped>\n",
       "    .dataframe tbody tr th:only-of-type {\n",
       "        vertical-align: middle;\n",
       "    }\n",
       "\n",
       "    .dataframe tbody tr th {\n",
       "        vertical-align: top;\n",
       "    }\n",
       "\n",
       "    .dataframe thead th {\n",
       "        text-align: right;\n",
       "    }\n",
       "</style>\n",
       "<table border=\"1\" class=\"dataframe\">\n",
       "  <thead>\n",
       "    <tr style=\"text-align: right;\">\n",
       "      <th></th>\n",
       "      <th>Order_ID</th>\n",
       "      <th>AWB_Number</th>\n",
       "      <th>Total_weight_as_per_X_(KG)</th>\n",
       "      <th>Weight_slab_as_per_X_(KG)</th>\n",
       "      <th>Total_weight_as_per_Courier_Company_(KG)</th>\n",
       "      <th>Weight_sla_b_charged_by_Courier_Company_(KG)</th>\n",
       "      <th>Delivery_Zone_as_per_X</th>\n",
       "      <th>Delivery_Zone_charged_by_Courier_Company</th>\n",
       "      <th>Expected_Charge_as_per_X_(Rs.)</th>\n",
       "      <th>Charges_Billed_by_Courier_Company_(Rs.)</th>\n",
       "      <th>Difference_Between_Expected_Charges_and_Billed_Charges_(Rs.)</th>\n",
       "    </tr>\n",
       "  </thead>\n",
       "  <tbody>\n",
       "    <tr>\n",
       "      <th>0</th>\n",
       "      <td>2001806210</td>\n",
       "      <td>1091117221940</td>\n",
       "      <td>0.220</td>\n",
       "      <td>0.5</td>\n",
       "      <td>2.92</td>\n",
       "      <td>3.0</td>\n",
       "      <td>b</td>\n",
       "      <td>b</td>\n",
       "      <td>33.0</td>\n",
       "      <td>174.5</td>\n",
       "      <td>-141.5</td>\n",
       "    </tr>\n",
       "    <tr>\n",
       "      <th>1</th>\n",
       "      <td>2001806226</td>\n",
       "      <td>1091117222065</td>\n",
       "      <td>0.480</td>\n",
       "      <td>0.5</td>\n",
       "      <td>0.68</td>\n",
       "      <td>1.0</td>\n",
       "      <td>d</td>\n",
       "      <td>d</td>\n",
       "      <td>45.4</td>\n",
       "      <td>90.2</td>\n",
       "      <td>-44.8</td>\n",
       "    </tr>\n",
       "    <tr>\n",
       "      <th>2</th>\n",
       "      <td>2001806229</td>\n",
       "      <td>1091117222080</td>\n",
       "      <td>0.500</td>\n",
       "      <td>0.5</td>\n",
       "      <td>0.71</td>\n",
       "      <td>1.0</td>\n",
       "      <td>d</td>\n",
       "      <td>d</td>\n",
       "      <td>45.4</td>\n",
       "      <td>90.2</td>\n",
       "      <td>-44.8</td>\n",
       "    </tr>\n",
       "    <tr>\n",
       "      <th>3</th>\n",
       "      <td>2001806232</td>\n",
       "      <td>1091117222124</td>\n",
       "      <td>1.302</td>\n",
       "      <td>1.5</td>\n",
       "      <td>1.30</td>\n",
       "      <td>1.5</td>\n",
       "      <td>d</td>\n",
       "      <td>d</td>\n",
       "      <td>135.0</td>\n",
       "      <td>135.0</td>\n",
       "      <td>0.0</td>\n",
       "    </tr>\n",
       "    <tr>\n",
       "      <th>4</th>\n",
       "      <td>2001806233</td>\n",
       "      <td>1091117222135</td>\n",
       "      <td>0.245</td>\n",
       "      <td>0.5</td>\n",
       "      <td>0.78</td>\n",
       "      <td>1.0</td>\n",
       "      <td>b</td>\n",
       "      <td>b</td>\n",
       "      <td>33.0</td>\n",
       "      <td>61.3</td>\n",
       "      <td>-28.3</td>\n",
       "    </tr>\n",
       "    <tr>\n",
       "      <th>...</th>\n",
       "      <td>...</td>\n",
       "      <td>...</td>\n",
       "      <td>...</td>\n",
       "      <td>...</td>\n",
       "      <td>...</td>\n",
       "      <td>...</td>\n",
       "      <td>...</td>\n",
       "      <td>...</td>\n",
       "      <td>...</td>\n",
       "      <td>...</td>\n",
       "      <td>...</td>\n",
       "    </tr>\n",
       "    <tr>\n",
       "      <th>119</th>\n",
       "      <td>2001821995</td>\n",
       "      <td>1091121183730</td>\n",
       "      <td>0.477</td>\n",
       "      <td>0.5</td>\n",
       "      <td>0.50</td>\n",
       "      <td>0.5</td>\n",
       "      <td>b</td>\n",
       "      <td>d</td>\n",
       "      <td>33.0</td>\n",
       "      <td>45.4</td>\n",
       "      <td>-12.4</td>\n",
       "    </tr>\n",
       "    <tr>\n",
       "      <th>120</th>\n",
       "      <td>2001822466</td>\n",
       "      <td>1091121305541</td>\n",
       "      <td>1.376</td>\n",
       "      <td>1.5</td>\n",
       "      <td>1.10</td>\n",
       "      <td>1.5</td>\n",
       "      <td>b</td>\n",
       "      <td>d</td>\n",
       "      <td>89.6</td>\n",
       "      <td>135.0</td>\n",
       "      <td>-45.4</td>\n",
       "    </tr>\n",
       "    <tr>\n",
       "      <th>121</th>\n",
       "      <td>2001823564</td>\n",
       "      <td>1091121666133</td>\n",
       "      <td>0.672</td>\n",
       "      <td>1.0</td>\n",
       "      <td>0.70</td>\n",
       "      <td>1.0</td>\n",
       "      <td>d</td>\n",
       "      <td>d</td>\n",
       "      <td>176.3</td>\n",
       "      <td>172.8</td>\n",
       "      <td>3.5</td>\n",
       "    </tr>\n",
       "    <tr>\n",
       "      <th>122</th>\n",
       "      <td>2001825261</td>\n",
       "      <td>1091121981575</td>\n",
       "      <td>1.557</td>\n",
       "      <td>2.0</td>\n",
       "      <td>1.60</td>\n",
       "      <td>2.0</td>\n",
       "      <td>d</td>\n",
       "      <td>d</td>\n",
       "      <td>355.5</td>\n",
       "      <td>345.0</td>\n",
       "      <td>10.5</td>\n",
       "    </tr>\n",
       "    <tr>\n",
       "      <th>123</th>\n",
       "      <td>2001827036</td>\n",
       "      <td>1091122418320</td>\n",
       "      <td>1.676</td>\n",
       "      <td>2.0</td>\n",
       "      <td>1.60</td>\n",
       "      <td>2.0</td>\n",
       "      <td>e</td>\n",
       "      <td>b</td>\n",
       "      <td>223.1</td>\n",
       "      <td>117.9</td>\n",
       "      <td>105.2</td>\n",
       "    </tr>\n",
       "  </tbody>\n",
       "</table>\n",
       "<p>124 rows × 11 columns</p>\n",
       "</div>"
      ],
      "text/plain": [
       "       Order_ID     AWB_Number  Total_weight_as_per_X_(KG)  \\\n",
       "0    2001806210  1091117221940                       0.220   \n",
       "1    2001806226  1091117222065                       0.480   \n",
       "2    2001806229  1091117222080                       0.500   \n",
       "3    2001806232  1091117222124                       1.302   \n",
       "4    2001806233  1091117222135                       0.245   \n",
       "..          ...            ...                         ...   \n",
       "119  2001821995  1091121183730                       0.477   \n",
       "120  2001822466  1091121305541                       1.376   \n",
       "121  2001823564  1091121666133                       0.672   \n",
       "122  2001825261  1091121981575                       1.557   \n",
       "123  2001827036  1091122418320                       1.676   \n",
       "\n",
       "     Weight_slab_as_per_X_(KG)  Total_weight_as_per_Courier_Company_(KG)  \\\n",
       "0                          0.5                                      2.92   \n",
       "1                          0.5                                      0.68   \n",
       "2                          0.5                                      0.71   \n",
       "3                          1.5                                      1.30   \n",
       "4                          0.5                                      0.78   \n",
       "..                         ...                                       ...   \n",
       "119                        0.5                                      0.50   \n",
       "120                        1.5                                      1.10   \n",
       "121                        1.0                                      0.70   \n",
       "122                        2.0                                      1.60   \n",
       "123                        2.0                                      1.60   \n",
       "\n",
       "     Weight_sla_b_charged_by_Courier_Company_(KG) Delivery_Zone_as_per_X  \\\n",
       "0                                             3.0                      b   \n",
       "1                                             1.0                      d   \n",
       "2                                             1.0                      d   \n",
       "3                                             1.5                      d   \n",
       "4                                             1.0                      b   \n",
       "..                                            ...                    ...   \n",
       "119                                           0.5                      b   \n",
       "120                                           1.5                      b   \n",
       "121                                           1.0                      d   \n",
       "122                                           2.0                      d   \n",
       "123                                           2.0                      e   \n",
       "\n",
       "    Delivery_Zone_charged_by_Courier_Company  Expected_Charge_as_per_X_(Rs.)  \\\n",
       "0                                          b                            33.0   \n",
       "1                                          d                            45.4   \n",
       "2                                          d                            45.4   \n",
       "3                                          d                           135.0   \n",
       "4                                          b                            33.0   \n",
       "..                                       ...                             ...   \n",
       "119                                        d                            33.0   \n",
       "120                                        d                            89.6   \n",
       "121                                        d                           176.3   \n",
       "122                                        d                           355.5   \n",
       "123                                        b                           223.1   \n",
       "\n",
       "     Charges_Billed_by_Courier_Company_(Rs.)   \\\n",
       "0                                       174.5   \n",
       "1                                        90.2   \n",
       "2                                        90.2   \n",
       "3                                       135.0   \n",
       "4                                        61.3   \n",
       "..                                        ...   \n",
       "119                                      45.4   \n",
       "120                                     135.0   \n",
       "121                                     172.8   \n",
       "122                                     345.0   \n",
       "123                                     117.9   \n",
       "\n",
       "     Difference_Between_Expected_Charges_and_Billed_Charges_(Rs.)  \n",
       "0                                               -141.5             \n",
       "1                                                -44.8             \n",
       "2                                                -44.8             \n",
       "3                                                  0.0             \n",
       "4                                                -28.3             \n",
       "..                                                 ...             \n",
       "119                                              -12.4             \n",
       "120                                              -45.4             \n",
       "121                                                3.5             \n",
       "122                                               10.5             \n",
       "123                                              105.2             \n",
       "\n",
       "[124 rows x 11 columns]"
      ]
     },
     "execution_count": 23,
     "metadata": {},
     "output_type": "execute_result"
    }
   ],
   "source": [
    "file_out_2=new_4\n",
    "file_out_2"
   ]
  },
  {
   "cell_type": "markdown",
   "id": "20dc85a6",
   "metadata": {},
   "source": [
    "### summary table"
   ]
  },
  {
   "cell_type": "code",
   "execution_count": 24,
   "id": "09bdc8aa",
   "metadata": {
    "scrolled": true
   },
   "outputs": [],
   "source": [
    "file_out_1=file_out_1.rename(columns={'Unnamed: 0':'Types_of_charges'})"
   ]
  },
  {
   "cell_type": "code",
   "execution_count": 25,
   "id": "7af60dac",
   "metadata": {
    "scrolled": true
   },
   "outputs": [],
   "source": [
    "file_out_1.at[0,'Count']=file_out_2.loc[file_out_2['Difference_Between_Expected_Charges_and_Billed_Charges_(Rs.)']==0,'Charges_Billed_by_Courier_Company_(Rs.) '].count()\n",
    "file_out_1.at[0,'Amount']=file_out_2['Charges_Billed_by_Courier_Company_(Rs.) '][file_out_2['Difference_Between_Expected_Charges_and_Billed_Charges_(Rs.)']==0].sum()\n",
    "\n",
    "file_out_1.at[1,'Count']=file_out_2.loc[file_out_2['Difference_Between_Expected_Charges_and_Billed_Charges_(Rs.)']<0,'Charges_Billed_by_Courier_Company_(Rs.) '].count()\n",
    "file_out_1.at[1,'Amount']=file_out_2['Difference_Between_Expected_Charges_and_Billed_Charges_(Rs.)'][file_out_2['Difference_Between_Expected_Charges_and_Billed_Charges_(Rs.)']<0].abs().sum()\n",
    "\n",
    "file_out_1.at[2,'Count']=file_out_2.loc[file_out_2['Difference_Between_Expected_Charges_and_Billed_Charges_(Rs.)']>0,'Charges_Billed_by_Courier_Company_(Rs.) '].count()\n",
    "file_out_1.at[2,'Amount']=file_out_2['Difference_Between_Expected_Charges_and_Billed_Charges_(Rs.)'][file_out_2['Difference_Between_Expected_Charges_and_Billed_Charges_(Rs.)']>0].abs().sum()\n"
   ]
  },
  {
   "cell_type": "code",
   "execution_count": 26,
   "id": "7185004a",
   "metadata": {},
   "outputs": [
    {
     "data": {
      "text/html": [
       "<div>\n",
       "<style scoped>\n",
       "    .dataframe tbody tr th:only-of-type {\n",
       "        vertical-align: middle;\n",
       "    }\n",
       "\n",
       "    .dataframe tbody tr th {\n",
       "        vertical-align: top;\n",
       "    }\n",
       "\n",
       "    .dataframe thead th {\n",
       "        text-align: right;\n",
       "    }\n",
       "</style>\n",
       "<table border=\"1\" class=\"dataframe\">\n",
       "  <thead>\n",
       "    <tr style=\"text-align: right;\">\n",
       "      <th></th>\n",
       "      <th>Types_of_charges</th>\n",
       "      <th>Count</th>\n",
       "      <th>Amount</th>\n",
       "    </tr>\n",
       "  </thead>\n",
       "  <tbody>\n",
       "    <tr>\n",
       "      <th>0</th>\n",
       "      <td>Total Orders - Correctly Charged</td>\n",
       "      <td>15.0</td>\n",
       "      <td>1207.3</td>\n",
       "    </tr>\n",
       "    <tr>\n",
       "      <th>1</th>\n",
       "      <td>Total Orders - Over Charged</td>\n",
       "      <td>85.0</td>\n",
       "      <td>4483.2</td>\n",
       "    </tr>\n",
       "    <tr>\n",
       "      <th>2</th>\n",
       "      <td>Total Orders - Under Charged</td>\n",
       "      <td>24.0</td>\n",
       "      <td>575.1</td>\n",
       "    </tr>\n",
       "  </tbody>\n",
       "</table>\n",
       "</div>"
      ],
      "text/plain": [
       "                   Types_of_charges  Count  Amount\n",
       "0  Total Orders - Correctly Charged   15.0  1207.3\n",
       "1       Total Orders - Over Charged   85.0  4483.2\n",
       "2      Total Orders - Under Charged   24.0   575.1"
      ]
     },
     "execution_count": 26,
     "metadata": {},
     "output_type": "execute_result"
    }
   ],
   "source": [
    "file_out_1"
   ]
  },
  {
   "cell_type": "markdown",
   "id": "c6a4c241",
   "metadata": {},
   "source": [
    "# Exporting files in Exel work Books"
   ]
  },
  {
   "cell_type": "code",
   "execution_count": 27,
   "id": "472fc6b8",
   "metadata": {},
   "outputs": [
    {
     "ename": "SyntaxError",
     "evalue": "(unicode error) 'unicodeescape' codec can't decode bytes in position 54-55: truncated \\UXXXXXXXX escape (Temp/ipykernel_18812/4103837602.py, line 8)",
     "output_type": "error",
     "traceback": [
      "\u001b[1;36m  File \u001b[1;32m\"C:\\Users\\Parimal\\AppData\\Local\\Temp/ipykernel_18812/4103837602.py\"\u001b[1;36m, line \u001b[1;32m8\u001b[0m\n\u001b[1;33m    \"\"\"\u001b[0m\n\u001b[1;37m       ^\u001b[0m\n\u001b[1;31mSyntaxError\u001b[0m\u001b[1;31m:\u001b[0m (unicode error) 'unicodeescape' codec can't decode bytes in position 54-55: truncated \\UXXXXXXXX escape\n"
     ]
    }
   ],
   "source": [
    "\"\"\"\n",
    "import xlsxwriter\n",
    "\n",
    "excel_writer = pd.ExcelWriter(r'C:\\Users\\Parimal\\Desktop\\Cointab_DA-Challenge_Output_(Raviraj_Wagh).xlsx', engine='xlsxwriter')\n",
    "file_out_1.to_excel(excel_writer, sheet_name='Summary_table',index=False)\n",
    "file_out_2.to_excel(excel_writer, sheet_name='order_level_calculation',index=False)\n",
    "excel_writer.save()\n",
    "\"\"\""
   ]
  },
  {
   "cell_type": "code",
   "execution_count": null,
   "id": "8624be3c",
   "metadata": {},
   "outputs": [],
   "source": [
    "joaiojif"
   ]
  },
  {
   "cell_type": "code",
   "execution_count": null,
   "id": "e471d9f9",
   "metadata": {},
   "outputs": [],
   "source": []
  }
 ],
 "metadata": {
  "kernelspec": {
   "display_name": "Python 3 (ipykernel)",
   "language": "python",
   "name": "python3"
  },
  "language_info": {
   "codemirror_mode": {
    "name": "ipython",
    "version": 3
   },
   "file_extension": ".py",
   "mimetype": "text/x-python",
   "name": "python",
   "nbconvert_exporter": "python",
   "pygments_lexer": "ipython3",
   "version": "3.9.7"
  }
 },
 "nbformat": 4,
 "nbformat_minor": 5
}
